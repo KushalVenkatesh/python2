{
 "cells": [
  {
   "cell_type": "code",
   "execution_count": 9,
   "metadata": {},
   "outputs": [],
   "source": [
    "bot_template = \"BOT : {0}\"\n",
    "user_template = \"USER : {0}\"\n",
    "\n",
    "# Define a function that responds to a user's message: respond\n",
    "def respond(message):\n",
    "    # Concatenate the user's message to the end of a standard bot respone\n",
    "    bot_message = \"I can hear you! You said: \" + message\n",
    "    # Return the result\n",
    "    return bot_message\n",
    "\n",
    "# Define a function that sends a message to the bot: send_message\n",
    "def send_message(message):\n",
    "    # Print user_template including the user_message\n",
    "    print(user_template.format(message))\n",
    "    # Get the bot's response to the message\n",
    "    response = respond(message)\n",
    "    # Print the bot template including the bot's response.\n",
    "    print(bot_template.format(response))"
   ]
  },
  {
   "cell_type": "code",
   "execution_count": 10,
   "metadata": {},
   "outputs": [],
   "source": [
    "# # Import the random module\n",
    "# import random\n",
    "\n",
    "# name = \"Greg\"\n",
    "# weather = \"cloudy\"\n",
    "\n",
    "# # Define a dictionary containing a list of responses for each message\n",
    "# responses = {\n",
    "#   \"what's your name?\": [\n",
    "#       \"my name is {0}\".format(name),\n",
    "#       \"they call me {0}\".format(name),\n",
    "#       \"I go by {0}\".format(name)\n",
    "#    ],\n",
    "#   \"what's today's weather?\": [\n",
    "#       \"the weather is {0}\".format(weather),\n",
    "#       \"it's {0} today\".format(weather)\n",
    "#     ],\n",
    "#   \"default\": [\"default message\"]\n",
    "# }\n",
    "\n",
    "# # Use random.choice() to choose a matching response\n",
    "# def respond(message):\n",
    "#     # Check if the message is in the responses\n",
    "#     if message in responses:\n",
    "#         # Return a random matching response\n",
    "#         bot_message = random.choice(responses[message])\n",
    "#     else:\n",
    "#         # Return a random \"default\" response\n",
    "#         bot_message = random.choice(responses[\"default\"])\n",
    "#     return bot_message"
   ]
  },
  {
   "cell_type": "code",
   "execution_count": 11,
   "metadata": {},
   "outputs": [
    {
     "name": "stdout",
     "output_type": "stream",
     "text": [
      "USER : what's today's weather?\n",
      "BOT : you tell me!\n",
      "USER : what's today's weather?\n",
      "BOT : I don't know :(\n",
      "USER : I love building chatbots\n",
      "BOT : I find that extremely interesting\n",
      "USER : I love building chatbots\n",
      "BOT : oh wow!\n"
     ]
    }
   ],
   "source": [
    "responses = {'question': [\"I don't know :(\", 'you tell me!'],\n",
    " 'statement': ['tell me more!',\n",
    "  'why do you think that?',\n",
    "  'how long have you felt this way?',\n",
    "  'I find that extremely interesting',\n",
    "  'can you back that up?',\n",
    "  'oh wow!',\n",
    "  ':)']}\n",
    "\n",
    "\n",
    "\n",
    "import random\n",
    "\n",
    "def respond(message):\n",
    "    # Check for a question mark\n",
    "    if message.endswith(\"?\"):\n",
    "        # Return a random question\n",
    "        return random.choice(responses[\"question\"])\n",
    "    # Return a random statement\n",
    "    return random.choice(responses[\"statement\"])\n",
    "\n",
    "\n",
    "# Send messages ending in a question mark\n",
    "send_message(\"what's today's weather?\")\n",
    "send_message(\"what's today's weather?\")\n",
    "\n",
    "# Send messages which don't end with a question mark\n",
    "send_message(\"I love building chatbots\")\n",
    "send_message(\"I love building chatbots\")"
   ]
  },
  {
   "cell_type": "code",
   "execution_count": null,
   "metadata": {},
   "outputs": [],
   "source": []
  }
 ],
 "metadata": {
  "kernelspec": {
   "display_name": "Python 2",
   "language": "python",
   "name": "python2"
  },
  "language_info": {
   "codemirror_mode": {
    "name": "ipython",
    "version": 2
   },
   "file_extension": ".py",
   "mimetype": "text/x-python",
   "name": "python",
   "nbconvert_exporter": "python",
   "pygments_lexer": "ipython2",
   "version": "2.7.15"
  }
 },
 "nbformat": 4,
 "nbformat_minor": 2
}
