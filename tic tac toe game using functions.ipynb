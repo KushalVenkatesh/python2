{
 "cells": [
  {
   "cell_type": "code",
   "execution_count": null,
   "metadata": {},
   "outputs": [
    {
     "name": "stdout",
     "output_type": "stream",
     "text": [
      "(7, 8, 9)\n",
      "(4, 5, 6)\n",
      "(1, 2, 3)\n",
      "()\n",
      "Player X pick your move\n",
      "5\n",
      "()\n",
      "(7, 8, 9)\n",
      "(4, 'X', 6)\n",
      "(1, 2, 3)\n",
      "()\n",
      "Player O pick your move\n",
      "1\n",
      "()\n",
      "(7, 8, 9)\n",
      "(4, 'X', 6)\n",
      "('O', 2, 3)\n",
      "()\n",
      "Player X pick your move\n",
      "8\n",
      "()\n",
      "(7, 'X', 9)\n",
      "(4, 'X', 6)\n",
      "('O', 2, 3)\n",
      "()\n",
      "Player O pick your move\n",
      "7\n",
      "()\n",
      "('O', 'X', 9)\n",
      "(4, 'X', 6)\n",
      "('O', 2, 3)\n",
      "()\n",
      "Player X pick your move\n",
      "2\n",
      "()\n",
      "('O', 'X', 9)\n",
      "(4, 'X', 6)\n",
      "('O', 'X', 3)\n",
      "()\n",
      "Player X wins!\n",
      "\n",
      "Congratulations!\n",
      "\n"
     ]
    }
   ],
   "source": [
    "def tic_tac_toe():\n",
    "    board = [None] + list(range(1, 10))\n",
    "    WIN_COMBINATIONS = [\n",
    "       (1, 2, 3),\n",
    "       (4, 5, 6),\n",
    "       (7, 8, 9),\n",
    "       (1, 4, 7),\n",
    "       (2, 5, 8),\n",
    "       (3, 6, 9),\n",
    "       (1, 5, 9),\n",
    "       (3, 5, 7),\n",
    "    ]\n",
    "\n",
    "    def draw():\n",
    "        print(board[7], board[8], board[9])\n",
    "        print(board[4], board[5], board[6])\n",
    "        print(board[1], board[2], board[3])\n",
    "        print()\n",
    "\n",
    "    def choose_number():\n",
    "        while True:\n",
    "            try:\n",
    "                a = int(input())\n",
    "                if a in board:\n",
    "                    return a\n",
    "                else:\n",
    "                    print(\"\\nInvalid move. Try again\")\n",
    "            except ValueError:\n",
    "               print(\"\\nThat's not a number. Try again\")\n",
    "\n",
    "    def is_game_over():\n",
    "        for a, b, c in WIN_COMBINATIONS:\n",
    "            if board[a] == board[b] == board[c]:\n",
    "                print(\"Player {0} wins!\\n\".format(board[a]))\n",
    "                print(\"Congratulations!\\n\")\n",
    "                return True\n",
    "        if 9 == sum((pos == 'X' or pos == 'O') for pos in board):\n",
    "            print(\"The game ends in a tie\\n\")\n",
    "            return True\n",
    "\n",
    "    for player in 'XO' * 9:\n",
    "        draw()\n",
    "        if is_game_over():\n",
    "            break\n",
    "        print(\"Player {0} pick your move\".format(player))\n",
    "        board[choose_number()] = player\n",
    "        print()\n",
    "\n",
    "while True:\n",
    "    tic_tac_toe()\n",
    "    if input(\"Play again (y/n)\\n\") != \"y\":\n",
    "        break"
   ]
  },
  {
   "cell_type": "code",
   "execution_count": 5,
   "metadata": {},
   "outputs": [],
   "source": [
    "def tic_tac_toe():\n",
    "    board = [None] + list(range(1, 10))\n",
    "    WIN_COMBINATIONS = [\n",
    "       (1, 2, 3),\n",
    "       (4, 5, 6),\n",
    "       (7, 8, 9),\n",
    "       (1, 4, 7),\n",
    "       (2, 5, 8),\n",
    "       (3, 6, 9),\n",
    "       (1, 5, 9),\n",
    "       (3, 5, 7),\n",
    "    ]"
   ]
  },
  {
   "cell_type": "code",
   "execution_count": 2,
   "metadata": {},
   "outputs": [],
   "source": [
    "tic_tac_toe()"
   ]
  },
  {
   "cell_type": "code",
   "execution_count": null,
   "metadata": {},
   "outputs": [],
   "source": [
    "# c = '3'\n",
    "# k= int(c)\n",
    "# print('k')\n",
    "# type(k)\n"
   ]
  },
  {
   "cell_type": "code",
   "execution_count": null,
   "metadata": {},
   "outputs": [],
   "source": []
  }
 ],
 "metadata": {
  "kernelspec": {
   "display_name": "Python 2",
   "language": "python",
   "name": "python2"
  },
  "language_info": {
   "codemirror_mode": {
    "name": "ipython",
    "version": 2
   },
   "file_extension": ".py",
   "mimetype": "text/x-python",
   "name": "python",
   "nbconvert_exporter": "python",
   "pygments_lexer": "ipython2",
   "version": "2.7.15"
  }
 },
 "nbformat": 4,
 "nbformat_minor": 2
}
