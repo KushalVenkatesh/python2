{
 "cells": [
  {
   "cell_type": "code",
   "execution_count": 1,
   "metadata": {},
   "outputs": [
    {
     "data": {
      "text/plain": [
       "{'In': ['', u'globals()'],\n",
       " 'Out': {},\n",
       " '_': '',\n",
       " '__': '',\n",
       " '___': '',\n",
       " '__builtin__': <module '__builtin__' (built-in)>,\n",
       " '__builtins__': <module '__builtin__' (built-in)>,\n",
       " '__doc__': 'Automatically created module for IPython interactive environment',\n",
       " '__name__': '__main__',\n",
       " '_dh': [u'C:\\\\Users\\\\kusha'],\n",
       " '_i': u'',\n",
       " '_i1': u'globals()',\n",
       " '_ih': ['', u'globals()'],\n",
       " '_ii': u'',\n",
       " '_iii': u'',\n",
       " '_oh': {},\n",
       " '_sh': <module 'IPython.core.shadowns' from 'C:\\Users\\kusha\\anacondapython2\\lib\\site-packages\\IPython\\core\\shadowns.pyc'>,\n",
       " 'exit': <IPython.core.autocall.ZMQExitAutocall at 0x6606eb8>,\n",
       " 'get_ipython': <bound method ZMQInteractiveShell.get_ipython of <ipykernel.zmqshell.ZMQInteractiveShell object at 0x00000000066069B0>>,\n",
       " 'quit': <IPython.core.autocall.ZMQExitAutocall at 0x6606eb8>}"
      ]
     },
     "execution_count": 1,
     "metadata": {},
     "output_type": "execute_result"
    }
   ],
   "source": [
    "globals()\n"
   ]
  },
  {
   "cell_type": "code",
   "execution_count": 2,
   "metadata": {},
   "outputs": [
    {
     "data": {
      "text/plain": [
       "{'In': ['', u'globals()', u'locals()'],\n",
       " 'Out': {1: {...}},\n",
       " '_': {...},\n",
       " '_1': {...},\n",
       " '__': '',\n",
       " '___': '',\n",
       " '__builtin__': <module '__builtin__' (built-in)>,\n",
       " '__builtins__': <module '__builtin__' (built-in)>,\n",
       " '__doc__': 'Automatically created module for IPython interactive environment',\n",
       " '__name__': '__main__',\n",
       " '_dh': [u'C:\\\\Users\\\\kusha'],\n",
       " '_i': u'globals()',\n",
       " '_i1': u'globals()',\n",
       " '_i2': u'locals()',\n",
       " '_ih': ['', u'globals()', u'locals()'],\n",
       " '_ii': u'',\n",
       " '_iii': u'',\n",
       " '_oh': {1: {...}},\n",
       " '_sh': <module 'IPython.core.shadowns' from 'C:\\Users\\kusha\\anacondapython2\\lib\\site-packages\\IPython\\core\\shadowns.pyc'>,\n",
       " 'exit': <IPython.core.autocall.ZMQExitAutocall at 0x6606eb8>,\n",
       " 'get_ipython': <bound method ZMQInteractiveShell.get_ipython of <ipykernel.zmqshell.ZMQInteractiveShell object at 0x00000000066069B0>>,\n",
       " 'quit': <IPython.core.autocall.ZMQExitAutocall at 0x6606eb8>}"
      ]
     },
     "execution_count": 2,
     "metadata": {},
     "output_type": "execute_result"
    }
   ],
   "source": [
    "locals()"
   ]
  },
  {
   "cell_type": "code",
   "execution_count": 3,
   "metadata": {},
   "outputs": [],
   "source": [
    "a = 50"
   ]
  },
  {
   "cell_type": "code",
   "execution_count": 4,
   "metadata": {},
   "outputs": [
    {
     "data": {
      "text/plain": [
       "{'In': ['', u'globals()', u'locals()', u'a = 50', u'globals()'],\n",
       " 'Out': {1: {...}, 2: {...}},\n",
       " '_': {...},\n",
       " '_1': {...},\n",
       " '_2': {...},\n",
       " '__': {...},\n",
       " '___': '',\n",
       " '__builtin__': <module '__builtin__' (built-in)>,\n",
       " '__builtins__': <module '__builtin__' (built-in)>,\n",
       " '__doc__': 'Automatically created module for IPython interactive environment',\n",
       " '__name__': '__main__',\n",
       " '_dh': [u'C:\\\\Users\\\\kusha'],\n",
       " '_i': u'a = 50',\n",
       " '_i1': u'globals()',\n",
       " '_i2': u'locals()',\n",
       " '_i3': u'a = 50',\n",
       " '_i4': u'globals()',\n",
       " '_ih': ['', u'globals()', u'locals()', u'a = 50', u'globals()'],\n",
       " '_ii': u'locals()',\n",
       " '_iii': u'globals()',\n",
       " '_oh': {1: {...}, 2: {...}},\n",
       " '_sh': <module 'IPython.core.shadowns' from 'C:\\Users\\kusha\\anacondapython2\\lib\\site-packages\\IPython\\core\\shadowns.pyc'>,\n",
       " 'a': 50,\n",
       " 'exit': <IPython.core.autocall.ZMQExitAutocall at 0x6606eb8>,\n",
       " 'get_ipython': <bound method ZMQInteractiveShell.get_ipython of <ipykernel.zmqshell.ZMQInteractiveShell object at 0x00000000066069B0>>,\n",
       " 'quit': <IPython.core.autocall.ZMQExitAutocall at 0x6606eb8>}"
      ]
     },
     "execution_count": 4,
     "metadata": {},
     "output_type": "execute_result"
    }
   ],
   "source": [
    "globals()"
   ]
  },
  {
   "cell_type": "code",
   "execution_count": 5,
   "metadata": {},
   "outputs": [
    {
     "data": {
      "text/plain": [
       "{'In': ['', u'globals()', u'locals()', u'a = 50', u'globals()', u'locals()'],\n",
       " 'Out': {1: {...}, 2: {...}, 4: {...}},\n",
       " '_': {...},\n",
       " '_1': {...},\n",
       " '_2': {...},\n",
       " '_4': {...},\n",
       " '__': {...},\n",
       " '___': {...},\n",
       " '__builtin__': <module '__builtin__' (built-in)>,\n",
       " '__builtins__': <module '__builtin__' (built-in)>,\n",
       " '__doc__': 'Automatically created module for IPython interactive environment',\n",
       " '__name__': '__main__',\n",
       " '_dh': [u'C:\\\\Users\\\\kusha'],\n",
       " '_i': u'globals()',\n",
       " '_i1': u'globals()',\n",
       " '_i2': u'locals()',\n",
       " '_i3': u'a = 50',\n",
       " '_i4': u'globals()',\n",
       " '_i5': u'locals()',\n",
       " '_ih': ['', u'globals()', u'locals()', u'a = 50', u'globals()', u'locals()'],\n",
       " '_ii': u'a = 50',\n",
       " '_iii': u'locals()',\n",
       " '_oh': {1: {...}, 2: {...}, 4: {...}},\n",
       " '_sh': <module 'IPython.core.shadowns' from 'C:\\Users\\kusha\\anacondapython2\\lib\\site-packages\\IPython\\core\\shadowns.pyc'>,\n",
       " 'a': 50,\n",
       " 'exit': <IPython.core.autocall.ZMQExitAutocall at 0x6606eb8>,\n",
       " 'get_ipython': <bound method ZMQInteractiveShell.get_ipython of <ipykernel.zmqshell.ZMQInteractiveShell object at 0x00000000066069B0>>,\n",
       " 'quit': <IPython.core.autocall.ZMQExitAutocall at 0x6606eb8>}"
      ]
     },
     "execution_count": 5,
     "metadata": {},
     "output_type": "execute_result"
    }
   ],
   "source": [
    "locals()"
   ]
  },
  {
   "cell_type": "code",
   "execution_count": 8,
   "metadata": {},
   "outputs": [],
   "source": [
    "def f1():\n",
    "    a = 100\n",
    "    return locals()"
   ]
  },
  {
   "cell_type": "code",
   "execution_count": 9,
   "metadata": {},
   "outputs": [
    {
     "data": {
      "text/plain": [
       "{'a': 100}"
      ]
     },
     "execution_count": 9,
     "metadata": {},
     "output_type": "execute_result"
    }
   ],
   "source": [
    "f1()"
   ]
  },
  {
   "cell_type": "code",
   "execution_count": 12,
   "metadata": {},
   "outputs": [],
   "source": [
    "def hi():\n",
    "    print 'Hello'"
   ]
  },
  {
   "cell_type": "code",
   "execution_count": 14,
   "metadata": {},
   "outputs": [
    {
     "name": "stdout",
     "output_type": "stream",
     "text": [
      "Hello\n"
     ]
    }
   ],
   "source": [
    "hi()"
   ]
  },
  {
   "cell_type": "code",
   "execution_count": 15,
   "metadata": {},
   "outputs": [
    {
     "name": "stdout",
     "output_type": "stream",
     "text": [
      "Hello\n"
     ]
    }
   ],
   "source": [
    "greeting = hi()"
   ]
  },
  {
   "cell_type": "code",
   "execution_count": 19,
   "metadata": {},
   "outputs": [
    {
     "name": "stdout",
     "output_type": "stream",
     "text": [
      "[10, 1, 20, 3, 30, 5, 40, 7, 50, 9]\n"
     ]
    }
   ],
   "source": [
    "a = range(0,10)\n",
    "a[::2] = [10,20,30,40,50]\n",
    "print a\n"
   ]
  },
  {
   "cell_type": "code",
   "execution_count": 20,
   "metadata": {},
   "outputs": [],
   "source": [
    "def greet(arg):\n",
    "    print 'Hello inside greet'\n",
    "    arg()\n",
    "    print 'Hello about to leave greet'"
   ]
  },
  {
   "cell_type": "code",
   "execution_count": 21,
   "metadata": {},
   "outputs": [],
   "source": [
    "def decorator(arg):\n",
    "    print 'I am doing something here'\n",
    "    def wrapper():\n",
    "        print 'do something here'\n",
    "        arg()\n",
    "        print 'now do something here also'\n",
    "    print 'control of execution is here'\n",
    "    return wrapper\n",
    "    "
   ]
  },
  {
   "cell_type": "code",
   "execution_count": 22,
   "metadata": {},
   "outputs": [
    {
     "ename": "NameError",
     "evalue": "name 'wrapper' is not defined",
     "output_type": "error",
     "traceback": [
      "\u001b[1;31m---------------------------------------------------------------------------\u001b[0m",
      "\u001b[1;31mNameError\u001b[0m                                 Traceback (most recent call last)",
      "\u001b[1;32m<ipython-input-22-6886758dc73f>\u001b[0m in \u001b[0;36m<module>\u001b[1;34m()\u001b[0m\n\u001b[1;32m----> 1\u001b[1;33m \u001b[0mk\u001b[0m \u001b[1;33m=\u001b[0m \u001b[0mwrapper\u001b[0m\u001b[1;33m(\u001b[0m\u001b[1;33m)\u001b[0m\u001b[1;33m\u001b[0m\u001b[0m\n\u001b[0m",
      "\u001b[1;31mNameError\u001b[0m: name 'wrapper' is not defined"
     ]
    }
   ],
   "source": [
    "k = wrapper()"
   ]
  },
  {
   "cell_type": "code",
   "execution_count": 23,
   "metadata": {},
   "outputs": [],
   "source": [
    "def to_be_applied():\n",
    "    print 'send Salary Slips'"
   ]
  },
  {
   "cell_type": "code",
   "execution_count": 24,
   "metadata": {},
   "outputs": [
    {
     "name": "stdout",
     "output_type": "stream",
     "text": [
      "I am doing something here\n",
      "control of execution is here\n"
     ]
    }
   ],
   "source": [
    "random_variable = decorator(to_be_applied)"
   ]
  },
  {
   "cell_type": "code",
   "execution_count": 25,
   "metadata": {},
   "outputs": [
    {
     "data": {
      "text/plain": [
       "<function __main__.wrapper>"
      ]
     },
     "execution_count": 25,
     "metadata": {},
     "output_type": "execute_result"
    }
   ],
   "source": [
    "random_variable\n"
   ]
  },
  {
   "cell_type": "code",
   "execution_count": 26,
   "metadata": {},
   "outputs": [
    {
     "name": "stdout",
     "output_type": "stream",
     "text": [
      "send Salary Slips\n"
     ]
    }
   ],
   "source": [
    "to_be_applied()"
   ]
  },
  {
   "cell_type": "code",
   "execution_count": 27,
   "metadata": {},
   "outputs": [
    {
     "name": "stdout",
     "output_type": "stream",
     "text": [
      "I am doing something here\n",
      "control of execution is here\n"
     ]
    }
   ],
   "source": [
    "to_be_applied = decorator(to_be_applied)"
   ]
  },
  {
   "cell_type": "code",
   "execution_count": 28,
   "metadata": {},
   "outputs": [
    {
     "name": "stdout",
     "output_type": "stream",
     "text": [
      "do something here\n",
      "send Salary Slips\n",
      "now do something here also\n"
     ]
    }
   ],
   "source": [
    "to_be_applied()"
   ]
  }
 ],
 "metadata": {
  "kernelspec": {
   "display_name": "Python 2",
   "language": "python",
   "name": "python2"
  },
  "language_info": {
   "codemirror_mode": {
    "name": "ipython",
    "version": 2
   },
   "file_extension": ".py",
   "mimetype": "text/x-python",
   "name": "python",
   "nbconvert_exporter": "python",
   "pygments_lexer": "ipython2",
   "version": "2.7.15"
  }
 },
 "nbformat": 4,
 "nbformat_minor": 2
}
