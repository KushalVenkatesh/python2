{
 "cells": [
  {
   "cell_type": "code",
   "execution_count": 1,
   "metadata": {},
   "outputs": [
    {
     "name": "stdout",
     "output_type": "stream",
     "text": [
      "true\n"
     ]
    }
   ],
   "source": [
    "def isPrime(n):\n",
    "     \n",
    "    # Corner case\n",
    "    if (n <= 1):\n",
    "        return False\n",
    " \n",
    "    # Check from 2 to n-1\n",
    "    for i in range(2, n):\n",
    "        if (n % i == 0):\n",
    "            return False\n",
    " \n",
    "    return True\n",
    " \n",
    "# Driver Program \n",
    "if isPrime(11):\n",
    "    print (\"true\")\n",
    "else:\n",
    "    print (\"false\")"
   ]
  },
  {
   "cell_type": "code",
   "execution_count": 3,
   "metadata": {},
   "outputs": [
    {
     "name": "stdout",
     "output_type": "stream",
     "text": [
      "Enter a number 9\n",
      "9 is a prime number\n",
      "9 is not a prime number\n",
      "3 is a factor of  9\n"
     ]
    }
   ],
   "source": [
    "num=int(raw_input(\"Enter a number \"))\n",
    " \n",
    "# prime numbers are greater than 1\n",
    "if num > 1:\n",
    "   \t# check for factors\n",
    "   \tfor i in range(2,num):\n",
    "       \t\tif (num % i) == 0:\n",
    "           \t\tprint num,\"is not a prime number\"\n",
    "           \t\tprint i,\"is a factor of \",num\n",
    "           \t\tbreak\n",
    "   \t\telse:\n",
    "       \t\t\tprint num,\"is a prime number\"\n",
    "       \n",
    "# if input number is less than\n",
    "# or equal to 1, it is not prime\n",
    "else:\n",
    "   \tprint num,\"is not a prime number\""
   ]
  },
  {
   "cell_type": "code",
   "execution_count": null,
   "metadata": {},
   "outputs": [],
   "source": []
  }
 ],
 "metadata": {
  "kernelspec": {
   "display_name": "Python 2",
   "language": "python",
   "name": "python2"
  },
  "language_info": {
   "codemirror_mode": {
    "name": "ipython",
    "version": 2
   },
   "file_extension": ".py",
   "mimetype": "text/x-python",
   "name": "python",
   "nbconvert_exporter": "python",
   "pygments_lexer": "ipython2",
   "version": "2.7.15"
  }
 },
 "nbformat": 4,
 "nbformat_minor": 2
}
